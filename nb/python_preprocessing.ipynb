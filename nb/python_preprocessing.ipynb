{
 "cells": [
  {
   "cell_type": "code",
   "execution_count": 1,
   "metadata": {},
   "outputs": [],
   "source": [
    "import pandas as pd\n",
    "import matplotlib.pyplot as plt\n",
    "import json\n",
    "import numpy as np"
   ]
  },
  {
   "cell_type": "code",
   "execution_count": 2,
   "metadata": {},
   "outputs": [],
   "source": [
    "def load_json(file):\n",
    "    with open(f'../data/{file}.json','r') as f:\n",
    "        return json.loads(f.read().replace('\\\\\\\\','\\\\').encode('utf-8'))"
   ]
  },
  {
   "cell_type": "code",
   "execution_count": 3,
   "metadata": {},
   "outputs": [],
   "source": [
    "events = load_json('events_England')\n",
    "ev_df = pd.DataFrame(events)\n",
    "tag_df = pd.read_csv('../data/tagcodes.csv')\n",
    "tag_dict = dict(zip(tag_df.Tag, tag_df.Description))"
   ]
  },
  {
   "cell_type": "code",
   "execution_count": 4,
   "metadata": {},
   "outputs": [],
   "source": [
    "for i in range(6):\n",
    "    ev_df[f'tag{i}'] = ev_df['tags'].str[i].str['id'].map(tag_dict).str.lower()"
   ]
  },
  {
   "cell_type": "code",
   "execution_count": 5,
   "metadata": {},
   "outputs": [
    {
     "name": "stderr",
     "output_type": "stream",
     "text": [
      "<ipython-input-5-261c910ba906>:10: SettingWithCopyWarning: \n",
      "A value is trying to be set on a copy of a slice from a DataFrame.\n",
      "Try using .loc[row_indexer,col_indexer] = value instead\n",
      "\n",
      "See the caveats in the documentation: https://pandas.pydata.org/pandas-docs/stable/user_guide/indexing.html#returning-a-view-versus-a-copy\n",
      "  e_df['notes'] = e_df[['tag0','tag1','tag2','tag3','tag4','tag5']].values.tolist()\n",
      "<ipython-input-5-261c910ba906>:11: SettingWithCopyWarning: \n",
      "A value is trying to be set on a copy of a slice from a DataFrame.\n",
      "Try using .loc[row_indexer,col_indexer] = value instead\n",
      "\n",
      "See the caveats in the documentation: https://pandas.pydata.org/pandas-docs/stable/user_guide/indexing.html#returning-a-view-versus-a-copy\n",
      "  e_df['tags'] = e_df['notes'].astype(str)\n",
      "<ipython-input-5-261c910ba906>:12: SettingWithCopyWarning: \n",
      "A value is trying to be set on a copy of a slice from a DataFrame.\n",
      "Try using .loc[row_indexer,col_indexer] = value instead\n",
      "\n",
      "See the caveats in the documentation: https://pandas.pydata.org/pandas-docs/stable/user_guide/indexing.html#returning-a-view-versus-a-copy\n",
      "  e_df['accurate'] = e_df.tags.str.contains('accurate')\n",
      "<ipython-input-5-261c910ba906>:13: SettingWithCopyWarning: \n",
      "A value is trying to be set on a copy of a slice from a DataFrame.\n",
      "Try using .loc[row_indexer,col_indexer] = value instead\n",
      "\n",
      "See the caveats in the documentation: https://pandas.pydata.org/pandas-docs/stable/user_guide/indexing.html#returning-a-view-versus-a-copy\n",
      "  e_df['accurate'] = np.where(e_df.tags.str.contains('not accurate'), 0, e_df.accurate)\n",
      "/home/peterprescott/miniconda3/envs/babel/lib/python3.8/site-packages/pandas/core/frame.py:3990: SettingWithCopyWarning: \n",
      "A value is trying to be set on a copy of a slice from a DataFrame\n",
      "\n",
      "See the caveats in the documentation: https://pandas.pydata.org/pandas-docs/stable/user_guide/indexing.html#returning-a-view-versus-a-copy\n",
      "  return super().drop(\n"
     ]
    }
   ],
   "source": [
    "players = load_json('players')\n",
    "players_dict = dict(zip(pd.DataFrame(players).wyId,pd.DataFrame(players).shortName))\n",
    "teams = load_json('teams')\n",
    "teams_dict = dict(zip(pd.DataFrame(teams).wyId,pd.DataFrame(teams).name))\n",
    "ev_df['player'] = ev_df['playerId'].map(players_dict)\n",
    "ev_df['team'] = ev_df['teamId'].map(teams_dict)\n",
    "ev_df['location'] = ev_df['positions'].str[0]\n",
    "ev_df['target'] = ev_df['positions'].str[1]\n",
    "e_df = ev_df[['matchId','eventSec','matchPeriod','team','location','target','player','eventName','subEventName','tag0','tag1','tag2','tag3','tag4','tag5']]\n",
    "e_df['notes'] = e_df[['tag0','tag1','tag2','tag3','tag4','tag5']].values.tolist()\n",
    "e_df['tags'] = e_df['notes'].astype(str)\n",
    "e_df['accurate'] = e_df.tags.str.contains('accurate')\n",
    "e_df['accurate'] = np.where(e_df.tags.str.contains('not accurate'), 0, e_df.accurate)\n",
    "e_df.drop(columns=['tag0','tag1','tag2','tag3','tag4','tag5','notes'],inplace=True)"
   ]
  },
  {
   "cell_type": "code",
   "execution_count": 6,
   "metadata": {},
   "outputs": [
    {
     "name": "stderr",
     "output_type": "stream",
     "text": [
      "<ipython-input-6-d913a723268f>:30: SettingWithCopyWarning: \n",
      "A value is trying to be set on a copy of a slice from a DataFrame.\n",
      "Try using .loc[row_indexer,col_indexer] = value instead\n",
      "\n",
      "See the caveats in the documentation: https://pandas.pydata.org/pandas-docs/stable/user_guide/indexing.html#returning-a-view-versus-a-copy\n",
      "  e_df['in_play'] = pd.Series(plays)\n",
      "<ipython-input-6-d913a723268f>:31: SettingWithCopyWarning: \n",
      "A value is trying to be set on a copy of a slice from a DataFrame.\n",
      "Try using .loc[row_indexer,col_indexer] = value instead\n",
      "\n",
      "See the caveats in the documentation: https://pandas.pydata.org/pandas-docs/stable/user_guide/indexing.html#returning-a-view-versus-a-copy\n",
      "  e_df['match_play'] = pd.Series(match_play)\n"
     ]
    }
   ],
   "source": [
    "play = 0\n",
    "plays = []\n",
    "next_action = []\n",
    "match_play = []\n",
    "matchId = e_df.iloc[0].matchId\n",
    "for i in range(len(e_df)):\n",
    "    if i>1:\n",
    "        row_minus2 = row_minus1\n",
    "    if i>0:\n",
    "        row_minus1 = row\n",
    "    row = e_df.iloc[i]\n",
    "    if i == 0:\n",
    "        row_minus1 = row\n",
    "        row_minus2 = row\n",
    "    \n",
    "    if row.eventName == 'Free Kick':\n",
    "        play += 1\n",
    "    elif 'goal' in row_minus2.tags and 'goal' in row_minus1.tags:\n",
    "        # (there are generally two events marked goal -- the shot and the attempted save)\n",
    "        play +=1\n",
    "    \n",
    "    if row.matchId == matchId:\n",
    "        pass\n",
    "    else:\n",
    "        play = 0\n",
    "        matchId = row.matchId\n",
    "    plays.append(play)\n",
    "    match_play.append(f'{matchId}-{play}')\n",
    "\n",
    "e_df['in_play'] = pd.Series(plays)\n",
    "e_df['match_play'] = pd.Series(match_play)"
   ]
  },
  {
   "cell_type": "code",
   "execution_count": 7,
   "metadata": {},
   "outputs": [
    {
     "name": "stderr",
     "output_type": "stream",
     "text": [
      "<ipython-input-7-e79c0d56b6b1>:34: SettingWithCopyWarning: \n",
      "A value is trying to be set on a copy of a slice from a DataFrame.\n",
      "Try using .loc[row_indexer,col_indexer] = value instead\n",
      "\n",
      "See the caveats in the documentation: https://pandas.pydata.org/pandas-docs/stable/user_guide/indexing.html#returning-a-view-versus-a-copy\n",
      "  e_df['possession'] = ps_sequence\n",
      "<ipython-input-7-e79c0d56b6b1>:35: SettingWithCopyWarning: \n",
      "A value is trying to be set on a copy of a slice from a DataFrame.\n",
      "Try using .loc[row_indexer,col_indexer] = value instead\n",
      "\n",
      "See the caveats in the documentation: https://pandas.pydata.org/pandas-docs/stable/user_guide/indexing.html#returning-a-view-versus-a-copy\n",
      "  e_df['played_to'] = played_to\n",
      "<ipython-input-7-e79c0d56b6b1>:36: SettingWithCopyWarning: \n",
      "A value is trying to be set on a copy of a slice from a DataFrame.\n",
      "Try using .loc[row_indexer,col_indexer] = value instead\n",
      "\n",
      "See the caveats in the documentation: https://pandas.pydata.org/pandas-docs/stable/user_guide/indexing.html#returning-a-view-versus-a-copy\n",
      "  e_df['to_team'] = to_team\n"
     ]
    }
   ],
   "source": [
    "ps_sequence = np.full(len(e_df),'0000000000000000000000000000000000')\n",
    "played_to = np.full(len(e_df), '                                    ')\n",
    "to_team = np.full(len(e_df), '                                       ')\n",
    "\n",
    "for match in e_df.matchId.unique():\n",
    "# for match in [e_df.matchId.unique()[0]]:\n",
    "    match_df = e_df.loc[e_df.matchId == match]\n",
    "    for team in match_df.team.unique():\n",
    "        for play in match_df.in_play.unique():\n",
    "            team_play_df = match_df.loc[match_df.in_play == play].loc[match_df.team == team]\n",
    "            possession_sequence = 0\n",
    "            for i in range(len(team_play_df)):\n",
    "                if i>0:\n",
    "                    previous_row = row\n",
    "                \n",
    "                row = team_play_df.iloc[i]\n",
    "                \n",
    "               \n",
    "                if i > 0:\n",
    "                    if row.location != target:\n",
    "                        possession_sequence += 1\n",
    "                        played_to[previous_row.name] = 'Opposition'\n",
    "                        to_team[previous_row.name] = 'Opposition'\n",
    "                    else:\n",
    "                        played_to[previous_row.name] = row.player\n",
    "                        to_team[previous_row.name] = row.team\n",
    "                team_name = team.split(' ')\n",
    "                team_abbr = ''\n",
    "                for word in team_name:\n",
    "                    team_abbr = team_abbr + word[:3]\n",
    "                ps_sequence[row.name] = f'{match}-{play}-{team_abbr}-{possession_sequence}'\n",
    "                target = row.target\n",
    "            \n",
    "e_df['possession'] = ps_sequence            \n",
    "e_df['played_to'] = played_to\n",
    "e_df['to_team'] = to_team"
   ]
  },
  {
   "cell_type": "code",
   "execution_count": 8,
   "metadata": {},
   "outputs": [
    {
     "name": "stderr",
     "output_type": "stream",
     "text": [
      "<ipython-input-8-c308636df065>:1: SettingWithCopyWarning: \n",
      "A value is trying to be set on a copy of a slice from a DataFrame.\n",
      "Try using .loc[row_indexer,col_indexer] = value instead\n",
      "\n",
      "See the caveats in the documentation: https://pandas.pydata.org/pandas-docs/stable/user_guide/indexing.html#returning-a-view-versus-a-copy\n",
      "  e_df['played_to'] = np.where(e_df['played_to'] == '                                    ', 'Opposition', e_df['played_to'])\n"
     ]
    }
   ],
   "source": [
    "e_df['played_to'] = np.where(e_df['played_to'] == '                                    ', 'Opposition', e_df['played_to'])"
   ]
  },
  {
   "cell_type": "code",
   "execution_count": 9,
   "metadata": {},
   "outputs": [
    {
     "name": "stderr",
     "output_type": "stream",
     "text": [
      "<ipython-input-9-434ce155762d>:1: SettingWithCopyWarning: \n",
      "A value is trying to be set on a copy of a slice from a DataFrame.\n",
      "Try using .loc[row_indexer,col_indexer] = value instead\n",
      "\n",
      "See the caveats in the documentation: https://pandas.pydata.org/pandas-docs/stable/user_guide/indexing.html#returning-a-view-versus-a-copy\n",
      "  e_df['to_team'] = np.where(e_df['to_team'] == '                                       ', 'Opposition', e_df['to_team'])\n"
     ]
    }
   ],
   "source": [
    "e_df['to_team'] = np.where(e_df['to_team'] == '                                       ', 'Opposition', e_df['to_team'])"
   ]
  },
  {
   "cell_type": "code",
   "execution_count": 10,
   "metadata": {},
   "outputs": [
    {
     "name": "stderr",
     "output_type": "stream",
     "text": [
      "<ipython-input-10-2d6eab7497c8>:3: SettingWithCopyWarning: \n",
      "A value is trying to be set on a copy of a slice from a DataFrame.\n",
      "Try using .loc[row_indexer,col_indexer] = value instead\n",
      "\n",
      "See the caveats in the documentation: https://pandas.pydata.org/pandas-docs/stable/user_guide/indexing.html#returning-a-view-versus-a-copy\n",
      "  e_df[f'{foo}_{goo}'] = e_df[foo].str[goo]\n"
     ]
    }
   ],
   "source": [
    "for foo in ('location','target'):\n",
    "    for goo in ('x','y'):\n",
    "        e_df[f'{foo}_{goo}'] = e_df[foo].str[goo]"
   ]
  },
  {
   "cell_type": "code",
   "execution_count": 11,
   "metadata": {},
   "outputs": [
    {
     "name": "stderr",
     "output_type": "stream",
     "text": [
      "<ipython-input-11-1d704e52991d>:2: SettingWithCopyWarning: \n",
      "A value is trying to be set on a copy of a slice from a DataFrame.\n",
      "Try using .loc[row_indexer,col_indexer] = value instead\n",
      "\n",
      "See the caveats in the documentation: https://pandas.pydata.org/pandas-docs/stable/user_guide/indexing.html#returning-a-view-versus-a-copy\n",
      "  e_df['target_x'] = np.where((e_df.tags.str.contains(\"'goal'\")) & (e_df.eventName != 'Save attempt'),\n",
      "<ipython-input-11-1d704e52991d>:4: SettingWithCopyWarning: \n",
      "A value is trying to be set on a copy of a slice from a DataFrame.\n",
      "Try using .loc[row_indexer,col_indexer] = value instead\n",
      "\n",
      "See the caveats in the documentation: https://pandas.pydata.org/pandas-docs/stable/user_guide/indexing.html#returning-a-view-versus-a-copy\n",
      "  e_df['target_y'] = np.where((e_df.tags.str.contains(\"'goal'\")) & (e_df.eventName != 'Save attempt'),\n"
     ]
    }
   ],
   "source": [
    "# change target coordinates of goal to inside goal\n",
    "e_df['target_x'] = np.where((e_df.tags.str.contains(\"'goal'\")) & (e_df.eventName != 'Save attempt'),\n",
    "                            100, e_df.target_x )\n",
    "e_df['target_y'] = np.where((e_df.tags.str.contains(\"'goal'\")) & (e_df.eventName != 'Save attempt'),\n",
    "                            50, e_df.target_y )"
   ]
  },
  {
   "cell_type": "code",
   "execution_count": 12,
   "metadata": {},
   "outputs": [
    {
     "name": "stderr",
     "output_type": "stream",
     "text": [
      "<ipython-input-12-ae24da1ccb5b>:1: SettingWithCopyWarning: \n",
      "A value is trying to be set on a copy of a slice from a DataFrame.\n",
      "Try using .loc[row_indexer,col_indexer] = value instead\n",
      "\n",
      "See the caveats in the documentation: https://pandas.pydata.org/pandas-docs/stable/user_guide/indexing.html#returning-a-view-versus-a-copy\n",
      "  e_df['subEventName'] = np.where((e_df.tags.str.contains(\"'goal'\")) & (e_df.eventName != 'Save attempt'),\n"
     ]
    }
   ],
   "source": [
    "e_df['subEventName'] = np.where((e_df.tags.str.contains(\"'goal'\")) & (e_df.eventName != 'Save attempt'),\n",
    "                            'Goal', e_df.subEventName )"
   ]
  },
  {
   "cell_type": "code",
   "execution_count": 13,
   "metadata": {},
   "outputs": [
    {
     "name": "stderr",
     "output_type": "stream",
     "text": [
      "<ipython-input-13-721fb6b2b6c9>:1: SettingWithCopyWarning: \n",
      "A value is trying to be set on a copy of a slice from a DataFrame.\n",
      "Try using .loc[row_indexer,col_indexer] = value instead\n",
      "\n",
      "See the caveats in the documentation: https://pandas.pydata.org/pandas-docs/stable/user_guide/indexing.html#returning-a-view-versus-a-copy\n",
      "  e_df['eventName'] = np.where(e_df['eventName'] == 'Others on the ball', 'On the Ball', e_df['eventName'])\n"
     ]
    }
   ],
   "source": [
    "e_df['eventName'] = np.where(e_df['eventName'] == 'Others on the ball', 'On the Ball', e_df['eventName'])"
   ]
  },
  {
   "cell_type": "code",
   "execution_count": 14,
   "metadata": {},
   "outputs": [
    {
     "name": "stderr",
     "output_type": "stream",
     "text": [
      "<ipython-input-14-5e7bf0d6f265>:1: SettingWithCopyWarning: \n",
      "A value is trying to be set on a copy of a slice from a DataFrame.\n",
      "Try using .loc[row_indexer,col_indexer] = value instead\n",
      "\n",
      "See the caveats in the documentation: https://pandas.pydata.org/pandas-docs/stable/user_guide/indexing.html#returning-a-view-versus-a-copy\n",
      "  e_df['eventName'] = np.where(e_df['eventName'] == 'Duel', 'Challenge', e_df['eventName'])\n"
     ]
    }
   ],
   "source": [
    "e_df['eventName'] = np.where(e_df['eventName'] == 'Duel', 'Challenge', e_df['eventName'])"
   ]
  },
  {
   "cell_type": "code",
   "execution_count": 15,
   "metadata": {},
   "outputs": [
    {
     "name": "stderr",
     "output_type": "stream",
     "text": [
      "<ipython-input-15-e301300ce245>:1: SettingWithCopyWarning: \n",
      "A value is trying to be set on a copy of a slice from a DataFrame.\n",
      "Try using .loc[row_indexer,col_indexer] = value instead\n",
      "\n",
      "See the caveats in the documentation: https://pandas.pydata.org/pandas-docs/stable/user_guide/indexing.html#returning-a-view-versus-a-copy\n",
      "  e_df['played_to'] = np.where(e_df.subEventName == 'Goal', 'Goal', e_df.played_to)\n",
      "<ipython-input-15-e301300ce245>:2: SettingWithCopyWarning: \n",
      "A value is trying to be set on a copy of a slice from a DataFrame.\n",
      "Try using .loc[row_indexer,col_indexer] = value instead\n",
      "\n",
      "See the caveats in the documentation: https://pandas.pydata.org/pandas-docs/stable/user_guide/indexing.html#returning-a-view-versus-a-copy\n",
      "  e_df['to_team'] = np.where(e_df.subEventName == 'Goal', 'Goal', e_df.to_team)\n"
     ]
    }
   ],
   "source": [
    "e_df['played_to'] = np.where(e_df.subEventName == 'Goal', 'Goal', e_df.played_to)\n",
    "e_df['to_team'] = np.where(e_df.subEventName == 'Goal', 'Goal', e_df.to_team)"
   ]
  },
  {
   "cell_type": "code",
   "execution_count": 16,
   "metadata": {},
   "outputs": [
    {
     "name": "stderr",
     "output_type": "stream",
     "text": [
      "<ipython-input-16-1578e4c71fa2>:2: SettingWithCopyWarning: \n",
      "A value is trying to be set on a copy of a slice from a DataFrame.\n",
      "Try using .loc[row_indexer,col_indexer] = value instead\n",
      "\n",
      "See the caveats in the documentation: https://pandas.pydata.org/pandas-docs/stable/user_guide/indexing.html#returning-a-view-versus-a-copy\n",
      "  e_df['location_x'] = np.where((e_df.subEventName == 'Goal kick'), 5, e_df.location_x)\n",
      "<ipython-input-16-1578e4c71fa2>:3: SettingWithCopyWarning: \n",
      "A value is trying to be set on a copy of a slice from a DataFrame.\n",
      "Try using .loc[row_indexer,col_indexer] = value instead\n",
      "\n",
      "See the caveats in the documentation: https://pandas.pydata.org/pandas-docs/stable/user_guide/indexing.html#returning-a-view-versus-a-copy\n",
      "  e_df['location_y'] = np.where((e_df.subEventName == 'Goal kick'), 50, e_df.location_y)\n"
     ]
    }
   ],
   "source": [
    "# change location coordinates of goal kick\n",
    "e_df['location_x'] = np.where((e_df.subEventName == 'Goal kick'), 5, e_df.location_x)\n",
    "e_df['location_y'] = np.where((e_df.subEventName == 'Goal kick'), 50, e_df.location_y)"
   ]
  },
  {
   "cell_type": "code",
   "execution_count": 17,
   "metadata": {},
   "outputs": [
    {
     "name": "stderr",
     "output_type": "stream",
     "text": [
      "<ipython-input-17-98ad9983d1c3>:2: SettingWithCopyWarning: \n",
      "A value is trying to be set on a copy of a slice from a DataFrame.\n",
      "Try using .loc[row_indexer,col_indexer] = value instead\n",
      "\n",
      "See the caveats in the documentation: https://pandas.pydata.org/pandas-docs/stable/user_guide/indexing.html#returning-a-view-versus-a-copy\n",
      "  e_df['minute'] = e_df.eventSec//60\n",
      "/home/peterprescott/miniconda3/envs/babel/lib/python3.8/site-packages/pandas/core/generic.py:5303: SettingWithCopyWarning: \n",
      "A value is trying to be set on a copy of a slice from a DataFrame.\n",
      "Try using .loc[row_indexer,col_indexer] = value instead\n",
      "\n",
      "See the caveats in the documentation: https://pandas.pydata.org/pandas-docs/stable/user_guide/indexing.html#returning-a-view-versus-a-copy\n",
      "  self[name] = value\n"
     ]
    }
   ],
   "source": [
    "# add time in minutes and seconds\n",
    "e_df['minute'] = e_df.eventSec//60\n",
    "e_df.minute = e_df.minute.astype(int)\n",
    "e_df['seconds'] = e_df.eventSec % 60\n",
    "e_df.seconds = e_df.seconds.astype(int)\n",
    "e_df['time'] = e_df.minute.astype(str).str.zfill(2) + ':' + e_df.seconds.astype(str).str.zfill(2)\n",
    "e_df.drop(columns='eventSec',inplace=True)"
   ]
  },
  {
   "cell_type": "code",
   "execution_count": 18,
   "metadata": {},
   "outputs": [],
   "source": [
    "e_df.drop(columns=['location','target'], inplace=True)"
   ]
  },
  {
   "cell_type": "code",
   "execution_count": 19,
   "metadata": {},
   "outputs": [],
   "source": [
    "e_df.rename(columns={'player':'source','played_to':'target'},inplace=True)"
   ]
  },
  {
   "cell_type": "code",
   "execution_count": 20,
   "metadata": {},
   "outputs": [],
   "source": [
    "matches = load_json('matches_England')"
   ]
  },
  {
   "cell_type": "code",
   "execution_count": 21,
   "metadata": {},
   "outputs": [],
   "source": [
    "match_df = pd.DataFrame(matches)"
   ]
  },
  {
   "cell_type": "code",
   "execution_count": 22,
   "metadata": {},
   "outputs": [],
   "source": [
    "home_or_away = np.full(len(e_df),'      ')"
   ]
  },
  {
   "cell_type": "code",
   "execution_count": 23,
   "metadata": {},
   "outputs": [],
   "source": [
    "matches = load_json('matches_England')\n",
    "match_df = pd.DataFrame(matches)\n",
    "for i in range(len(e_df)):\n",
    "    match = e_df.iloc[i].matchId\n",
    "    team = ev_df.iloc[i].teamId\n",
    "    status = match_df.loc[match_df.wyId==match].teamsData.str[str(team)].str['side'].values[0].capitalize()\n",
    "    home_or_away[i] = status\n",
    "e_df['home_or_away'] = home_or_away"
   ]
  },
  {
   "cell_type": "code",
   "execution_count": 24,
   "metadata": {},
   "outputs": [],
   "source": [
    "e_df['to_team'] = np.where(e_df.to_team == e_df.team, e_df.home_or_away, e_df.to_team)"
   ]
  },
  {
   "cell_type": "code",
   "execution_count": 25,
   "metadata": {},
   "outputs": [],
   "source": [
    "opposition = {'Home':'Away','Away':'Home'}"
   ]
  },
  {
   "cell_type": "code",
   "execution_count": 26,
   "metadata": {},
   "outputs": [],
   "source": [
    "e_df['to_team'] = np.where(e_df.to_team == 'Opposition', e_df.home_or_away.map(opposition), e_df.to_team)"
   ]
  },
  {
   "cell_type": "code",
   "execution_count": 27,
   "metadata": {},
   "outputs": [],
   "source": [
    "e_df['to_team'] = np.where(e_df.tags.str.contains('own goal'), 'Own Goal', e_df.to_team)"
   ]
  },
  {
   "cell_type": "code",
   "execution_count": 29,
   "metadata": {},
   "outputs": [],
   "source": [
    "whose_goal = {'Home':'Home Goal', 'Away':'Away Goal'}\n",
    "e_df['to_team'] = np.where(e_df.to_team == 'Goal', e_df.home_or_away.map(whose_goal), e_df.to_team)"
   ]
  },
  {
   "cell_type": "code",
   "execution_count": 30,
   "metadata": {},
   "outputs": [],
   "source": [
    "whose_own_goal = {'Home':'Away Goal', 'Away':'Home Goal'}\n",
    "e_df['to_team'] = np.where(e_df.to_team == 'Own Goal', e_df.home_or_away.map(whose_own_goal), e_df.to_team)"
   ]
  },
  {
   "cell_type": "code",
   "execution_count": 180,
   "metadata": {},
   "outputs": [
    {
     "data": {
      "text/plain": [
       "75    {'bench': [{'playerId': 8955, 'ownGoals': '0',...\n",
       "Name: teamsData, dtype: object"
      ]
     },
     "execution_count": 180,
     "metadata": {},
     "output_type": "execute_result"
    }
   ],
   "source": [
    "match_df.loc[match_df.wyId == 2500032].teamsData.str['1612'].str['formation']"
   ]
  },
  {
   "cell_type": "code",
   "execution_count": 203,
   "metadata": {},
   "outputs": [
    {
     "data": {
      "text/plain": [
       "array([  7988, 486252,   8425, 127537,  25430,    454,   8471,   7958,\n",
       "         8623,  38031,   8422])"
      ]
     },
     "execution_count": 203,
     "metadata": {},
     "output_type": "execute_result"
    }
   ],
   "source": [
    "pd.DataFrame(match_df.loc[match_df.wyId == 2500032].teamsData.str['1628'].str['formation'].str['lineup'].values[0]).playerId.values"
   ]
  },
  {
   "cell_type": "code",
   "execution_count": 249,
   "metadata": {},
   "outputs": [],
   "source": [
    "match_lineups = {}\n",
    "\n",
    "for match in match_df.wyId.unique():\n",
    "    match_lineups[match] = {}\n",
    "    for team in match_df.loc[match_df.wyId == match].teamsData.values[0].keys():\n",
    "        match_lineups[match][teams_dict[int(team)]] = list(pd.Series(pd.DataFrame(match_df.loc[\n",
    "            match_df.wyId == match].teamsData.str[str(team)].str['formation'].str['lineup'].values[0]).playerId.values).map(players_dict))"
   ]
  },
  {
   "cell_type": "code",
   "execution_count": 262,
   "metadata": {},
   "outputs": [],
   "source": [
    "def firstXI(row):\n",
    "    return row.source in match_lineups[row.matchId][row.team]"
   ]
  },
  {
   "cell_type": "code",
   "execution_count": 266,
   "metadata": {},
   "outputs": [],
   "source": [
    "e_df['FirstXI'] = e_df.apply(firstXI, axis=1)"
   ]
  },
  {
   "cell_type": "code",
   "execution_count": 268,
   "metadata": {},
   "outputs": [],
   "source": [
    "e_df.to_csv('../data/processed_events_England.csv')"
   ]
  },
  {
   "cell_type": "code",
   "execution_count": 63,
   "metadata": {},
   "outputs": [
    {
     "data": {
      "text/plain": [
       "<matplotlib.axes._subplots.AxesSubplot at 0x7f68257a8460>"
      ]
     },
     "execution_count": 63,
     "metadata": {},
     "output_type": "execute_result"
    },
    {
     "data": {
      "image/png": "[encoded data removed]",
      "text/plain": [
       "<Figure size 432x288 with 1 Axes>"
      ]
     },
     "metadata": {
      "needs_background": "light"
     },
     "output_type": "display_data"
    }
   ],
   "source": [
    "e_df.matchId.value_counts().plot.hist(bins=10)"
   ]
  },
  {
   "cell_type": "markdown",
   "metadata": {},
   "source": [
    "some probabilistic notions regarding random walks on graphs can be stated in terms of voltage,\n",
    "flow of current, effective resistance, etc., and then electric laws can be applied in order to get simple\n",
    "electric solutions to more or less elaborate probabilistic problems."
   ]
  },
  {
   "cell_type": "code",
   "execution_count": null,
   "metadata": {},
   "outputs": [],
   "source": []
  }
 ],
 "metadata": {
  "kernelspec": {
   "display_name": "Python 3",
   "language": "python",
   "name": "python3"
  },
  "language_info": {
   "codemirror_mode": {
    "name": "ipython",
    "version": 3
   },
   "file_extension": ".py",
   "mimetype": "text/x-python",
   "name": "python",
   "nbconvert_exporter": "python",
   "pygments_lexer": "ipython3",
   "version": "3.8.2"
  }
 },
 "nbformat": 4,
 "nbformat_minor": 4
}

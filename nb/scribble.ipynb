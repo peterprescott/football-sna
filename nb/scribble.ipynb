{
 "cells": [
  {
   "cell_type": "code",
   "execution_count": 1,
   "metadata": {},
   "outputs": [
    {
     "ename": "ERROR",
     "evalue": "Error in eval(expr, envir, enclos): object 'teams' not found\n",
     "output_type": "error",
     "traceback": [
      "Error in eval(expr, envir, enclos): object 'teams' not found\nTraceback:\n"
     ]
    }
   ],
   "source": [
    "df <- data.frame(TEAM=character(),POS=integer(),PLD=integer(),W=integer(),D=integer(),L=integer(),GF=integer(),GA=integer(),GD=integer(),PTS=integer())\n",
    "\n",
    "names(df) <- c('TEAM', 'POS','PLD','W','D','L','GF','GA','GD','PTS')\n",
    "\n",
    "for (t in teams){\n",
    "    next_row <- data.frame(t(c(t, rep(0,9))))\n",
    "    names(next_row) <- c('TEAM', 'POS','PLD','W','D','L','GF','GA','GD','PTS')\n",
    "    df <- rbind(df, next_row)\n",
    "    \n",
    "}"
   ]
  },
  {
   "cell_type": "code",
   "execution_count": null,
   "metadata": {},
   "outputs": [],
   "source": []
  }
 ],
 "metadata": {
  "kernelspec": {
   "display_name": "R",
   "language": "R",
   "name": "ir"
  },
  "language_info": {
   "codemirror_mode": "r",
   "file_extension": ".r",
   "mimetype": "text/x-r-source",
   "name": "R",
   "pygments_lexer": "r",
   "version": "3.6.3"
  }
 },
 "nbformat": 4,
 "nbformat_minor": 4
}

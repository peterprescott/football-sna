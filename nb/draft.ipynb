{
 "cells": [
  {
   "cell_type": "markdown",
   "metadata": {},
   "source": [
    "# Random Walks along Social Networks: The Markovian Movement of a Stochastic Soccerball"
   ]
  },
  {
   "cell_type": "markdown",
   "metadata": {},
   "source": [
    "## Executive Summary"
   ]
  },
  {
   "cell_type": "markdown",
   "metadata": {},
   "source": [
    "## Introduction"
   ]
  },
  {
   "cell_type": "markdown",
   "metadata": {},
   "source": [
    "## Data"
   ]
  },
  {
   "cell_type": "markdown",
   "metadata": {},
   "source": []
  },
  {
   "cell_type": "markdown",
   "metadata": {},
   "source": [
    "## Methodology"
   ]
  },
  {
   "cell_type": "markdown",
   "metadata": {},
   "source": [
    "We begin by defining our terms."
   ]
  },
  {
   "cell_type": "markdown",
   "metadata": {},
   "source": [
    "A *social* network is a network involving *persons*. I take as axiomatic the proposition that human beings are, individually and sometimes collectively, persons; we will not here entertain the question of whether such a designation should be extended to animal, divine, or robotic agents."
   ]
  },
  {
   "cell_type": "markdown",
   "metadata": {},
   "source": [
    "A *network* is a graph in which some or all of the nodes, edges, and graph are *objects* with *attributes* besides those given in the description of the network as a graph. "
   ]
  },
  {
   "cell_type": "markdown",
   "metadata": {},
   "source": [
    "A *graph* is an ordered tuple $G = (V,E)$, consisting of a set of *nodes* (or *vertices*) $V = \\{v_{i}\\}$, and a set of *edges* $E = \\{e_{ij}\\}$, where the edge $e_{ij}$ is the ordered pair $\\{i,j\\}$ representing some connection from $v_{i}$ to $v_{j}$. "
   ]
  },
  {
   "cell_type": "markdown",
   "metadata": {},
   "source": [
    "Two nodes connected by an edge are said to be *adjacent* to each other. "
   ]
  },
  {
   "cell_type": "markdown",
   "metadata": {},
   "source": [
    "An edge $e_{ii}$ connecting a node $v_{i}$ to itself is called a *loop*. "
   ]
  },
  {
   "cell_type": "markdown",
   "metadata": {},
   "source": [
    "A graph is called *undirected* if $e_{ij} \\iff e_{ji}$ (otherwise it is a *directed* graph), and *simple* if the edges are distinct and unrepeated (otherwise it is a *multigraph*). "
   ]
  },
  {
   "cell_type": "markdown",
   "metadata": {},
   "source": [
    "A graph is *weighted* if there exists some function $w: E \\mapsto \\mathbb{R}$ assigning some weight value to each edge. "
   ]
  },
  {
   "cell_type": "markdown",
   "metadata": {},
   "source": [
    "An unweighted multigraph can thus be viewed as a weighted simple graph by defining $w(e_{ij}) = |\\{e \\in E: e = e_{ij}\\}| \\in \\mathbb{N_{0}}$, so that the weight of an edge is the number of times it is repeated."
   ]
  },
  {
   "cell_type": "markdown",
   "metadata": {},
   "source": [
    "A weighted simple graph can be uniquely described by an *adjacency matrix*:\n",
    "$$\n",
    "M_{ij} = \\begin{cases}\n",
    "    \\begin{array}{ll}\n",
    "         w(e_{ij}), & e_{ij} \\in E \\\\\n",
    "       0, & otherwise\n",
    "    \\end{array}\n",
    "\\end{cases}\n",
    "$$"
   ]
  },
  {
   "cell_type": "markdown",
   "metadata": {},
   "source": [
    "A *walk* of length L is a sequence of adjacent (but not necessarily distinct) nodes $(v_{0},...,v_{L})$"
   ]
  },
  {
   "cell_type": "markdown",
   "metadata": {},
   "source": [
    "We also need some definitions from *probability theory* and *statistics*."
   ]
  },
  {
   "cell_type": "markdown",
   "metadata": {},
   "source": [
    "A *sample space* $ \\Omega = \\{\\omega_{i}\\}$ is a set of possible *outcomes* of an *observation*."
   ]
  },
  {
   "cell_type": "markdown",
   "metadata": {},
   "source": [
    "An *event* $F$ is some subset of $\\Omega$, and the *event space* $\\mathcal{F}$ is the set of subsets of $\\Omega$. In particular, $\\Omega \\subset \\mathcal{F}$."
   ]
  },
  {
   "cell_type": "markdown",
   "metadata": {},
   "source": [
    "A *probability* $\\mathbb{P}$ is a function $\\mathbb{P}: \\mathcal{F} \\mapsto [0,1] \\in \\mathbb{R}$, such that $\\sum\\limits_{\\omega_{i} \\in \\Omega}\\mathbb{P}(\\omega_{i}) = 1$. We can also talk about the *conditional probability* of an event $G$ given another event $F$, which we write $\\mathbb{P}(G | F)$."
   ]
  },
  {
   "cell_type": "markdown",
   "metadata": {},
   "source": [
    "A *random variable* is a function $X: \\Omega \\mapsto S$. If $S = \\mathbb{R}$ then we also have the *expectation* $\\mathbb{E}[X]$ and *variance* $\\mathrm{Var}[X]$, but it is acceptable to have an $S \\not\\subset \\mathbb{R}$."
   ]
  },
  {
   "cell_type": "markdown",
   "metadata": {},
   "source": [
    "A *stochastic process* is an indexed set (that is, a *sequence*) of random variables, where the index ordinarily refers to points in time $t$, which may be considered discretely (so $t \\in \\mathbb{N}_{0}$ ) or continuously (so $t \\in \\mathbb{R}$)."
   ]
  },
  {
   "cell_type": "markdown",
   "metadata": {},
   "source": [
    "A stochastic process has the *Markov property* if $\\forall t \\ge 0, \\mathbb{P}(X_{t+1}=s| X_{0},...,X_{t}) = \\mathbb{P}(X_{t+1}=s| X_{t})$; this means the future is dependent only on the present, regardless of the previous history. Such a process can be called a Markov process."
   ]
  },
  {
   "cell_type": "markdown",
   "metadata": {},
   "source": [
    "A Markov process is *time-homogenous* if the probability of "
   ]
  },
  {
   "cell_type": "markdown",
   "metadata": {},
   "source": [
    "If a Markov process develops in discrete time and takes a values from a discrete *state space*, then we call it a *Markov chain* and can draw it as a graph with acc"
   ]
  },
  {
   "cell_type": "markdown",
   "metadata": {},
   "source": [
    "A Markov process "
   ]
  },
  {
   "cell_type": "markdown",
   "metadata": {},
   "source": []
  },
  {
   "cell_type": "markdown",
   "metadata": {},
   "source": [
    "A discrete-time *stochastic process* $\\{X_{n} : n \\ge 0 \\}$ on a countable set $S$ is a collection of $S$-valued random variables defined on a probability space $(\\Omega,\\mathcal{F},\\mathbb{P})$. The $\\mathbb{P}$ is a probability measure on $\\mathcal{F}$, the field of subsets of the sample-space $\\Omega$. The set $S$ is the *state space* of the process, and the value $X_{n} \\in S$ is the *state* of the process at *time* $n$.\n",
    "\n",
    "A stochastic process has the *Markov property* if $\\forall n \\ge 0$, "
   ]
  },
  {
   "cell_type": "markdown",
   "metadata": {},
   "source": [
    "[@RSerfozo2009]"
   ]
  },
  {
   "cell_type": "markdown",
   "metadata": {},
   "source": [
    "https://stats.stackexchange.com/questions/64167/how-to-define-sample-space-for-discrete-random-variable\n",
    "\n",
    "https://math.stackexchange.com/questions/2042801/state-space-and-sample-space-difference/2322791\n",
    "\n",
    "sample space, state space, event space\n",
    "\n",
    "sample space is the set of all possible outcomes, \n",
    "\n",
    "event space, the set of sets of outcomes\n",
    "\n",
    "probability mass function $p: \\Omega \\mapsto [0,1]$ such that $\\sum\\limits_{\\omega \\in \\Omega} p(\\omega) = 1$"
   ]
  },
  {
   "cell_type": "markdown",
   "metadata": {},
   "source": [
    "$(\\Omega,\\mathcal{F},\\mathbb{P})$"
   ]
  },
  {
   "cell_type": "markdown",
   "metadata": {},
   "source": [
    "\"a network can be defined as a graph in which nodes and/or edges have attributes\""
   ]
  },
  {
   "cell_type": "markdown",
   "metadata": {},
   "source": [
    "how to define social\n"
   ]
  },
  {
   "cell_type": "markdown",
   "metadata": {},
   "source": [
    "For our purposes, the "
   ]
  },
  {
   "cell_type": "markdown",
   "metadata": {},
   "source": [
    "## Results"
   ]
  },
  {
   "cell_type": "markdown",
   "metadata": {},
   "source": [
    "## Conclusion"
   ]
  },
  {
   "cell_type": "markdown",
   "metadata": {},
   "source": [
    "## Bibliography"
   ]
  }
 ],
 "metadata": {
  "kernelspec": {
   "display_name": "R",
   "language": "R",
   "name": "ir"
  },
  "language_info": {
   "codemirror_mode": "r",
   "file_extension": ".r",
   "mimetype": "text/x-r-source",
   "name": "R",
   "pygments_lexer": "r",
   "version": "3.6.3"
  }
 },
 "nbformat": 4,
 "nbformat_minor": 4
}

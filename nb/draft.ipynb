{
 "cells": [
  {
   "cell_type": "markdown",
   "metadata": {},
   "source": [
    "# Random Walks on Social Networks: The Markovian Movement of a Stochastic Soccerball"
   ]
  },
  {
   "cell_type": "markdown",
   "metadata": {},
   "source": [
    "## Executive Summary"
   ]
  },
  {
   "cell_type": "markdown",
   "metadata": {},
   "source": [
    "## Introduction"
   ]
  },
  {
   "cell_type": "markdown",
   "metadata": {},
   "source": [
    "## Data"
   ]
  },
  {
   "cell_type": "markdown",
   "metadata": {},
   "source": [
    "## Methodology"
   ]
  },
  {
   "cell_type": "markdown",
   "metadata": {},
   "source": [
    "A *graph* is an ordered tuple $G = (V,E)$, consisting of a set of *nodes* (or *vertices*) $V = \\{v_{i}\\}$, and a set of *edges* $E = \\{e_{ij}\\}$, where the edge $e_{ij}$ represents a connection from $v_{i}$ to $v_{j}$. A graph is called *undirected* if $e_{ij} \\iff e_{ji}$ (otherwise it is a *directed* graph), and *simple* if the edges are distinct and unrepeated (otherwise it is a *multigraph*). A graph is *weighted* if there exists some function $w: E \\mapsto \\mathbb{R}$ assigning some weight value to each edge. An unweighted multigraph can thus be viewed as a weighted simple graph by defining $w(e_{ij}) = |\\{e \\in E: e = e_{ij}\\}| \\in \\mathbb{N_{0}}$, so that the weight of an edge is the number of times it is repeated."
   ]
  },
  {
   "cell_type": "markdown",
   "metadata": {},
   "source": [
    "For our purposes, the "
   ]
  },
  {
   "cell_type": "markdown",
   "metadata": {},
   "source": [
    "## Results"
   ]
  },
  {
   "cell_type": "markdown",
   "metadata": {},
   "source": [
    "## Conclusion"
   ]
  },
  {
   "cell_type": "markdown",
   "metadata": {},
   "source": [
    "## Bibliography"
   ]
  }
 ],
 "metadata": {
  "kernelspec": {
   "display_name": "R",
   "language": "R",
   "name": "ir"
  },
  "language_info": {
   "codemirror_mode": "r",
   "file_extension": ".r",
   "mimetype": "text/x-r-source",
   "name": "R",
   "pygments_lexer": "r",
   "version": "3.6.3"
  }
 },
 "nbformat": 4,
 "nbformat_minor": 4
}

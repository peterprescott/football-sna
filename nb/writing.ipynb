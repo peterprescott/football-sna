{
 "cells": [
  {
   "cell_type": "markdown",
   "metadata": {
    "kernel": "SoS"
   },
   "source": [
    "# Executive Summary"
   ]
  },
  {
   "cell_type": "code",
   "execution_count": null,
   "metadata": {
    "kernel": "SoS"
   },
   "outputs": [],
   "source": []
  },
  {
   "cell_type": "markdown",
   "metadata": {
    "kernel": "SoS"
   },
   "source": [
    "# Introduction"
   ]
  },
  {
   "cell_type": "code",
   "execution_count": null,
   "metadata": {
    "kernel": "SoS"
   },
   "outputs": [],
   "source": [
    "Reep 1950s longball\n",
    "@RPollardReep1997\n",
    "@RPollard2002\n",
    "@RPollardEtAl1988\n",
    "@CReepBenjamin1968\n",
    "@CReepEtAl1971\n",
    "\n",
    "even earlier @JEaves2015\n",
    "\n",
    "\n",
    "David Barrett [@ECochraneEtAl1910]\n",
    "\" I decided to keep accurate record of every goal, \n",
    "foul, off-side play and every throw-in, corner kick and goal kick \n",
    "during each game. I ran a box score of the result similar \n",
    "to those used in base ball in my stories in the Republic. Oppo- \n",
    "site each player's name I printed the number of times he got a \n",
    "goal or fouled or was off-side. Also the number of corner kicks \n",
    "kicked off by the wings. As a summary, I had the number of \n",
    "goal kicks and throw-ins. \"\n",
    "\n",
    "Gould and Gattrell 1977\n",
    "\n",
    "invasive games like basketball, ice hockey,\n",
    "\n"
   ]
  },
  {
   "cell_type": "markdown",
   "metadata": {
    "kernel": "SoS"
   },
   "source": [
    "# Data"
   ]
  },
  {
   "cell_type": "code",
   "execution_count": null,
   "metadata": {
    "kernel": "SoS"
   },
   "outputs": [],
   "source": [
    "@LPappalardoEtAl2019a\n",
    "\n",
    "fig 1 Event Types\n",
    "\n",
    "\n",
    "fig 2 Pass Types"
   ]
  },
  {
   "cell_type": "markdown",
   "metadata": {
    "kernel": "SoS"
   },
   "source": [
    "# Methodology"
   ]
  },
  {
   "cell_type": "code",
   "execution_count": null,
   "metadata": {
    "kernel": "SoS"
   },
   "outputs": [],
   "source": [
    "graph theory and social network analysis\n",
    "\n",
    "Euler bridges of Konnigsberg\n",
    "\n",
    "nodes\n",
    "\n",
    "edges\n",
    "\n",
    "density\n",
    "\n",
    "heterogeneity\n",
    "\n",
    "entropy\n",
    "\n",
    "Nash centrality\n",
    "\n",
    "betweenness\n",
    "\n",
    "closeness\n",
    "\n",
    "eigenvector centrality\n",
    "\n",
    "Markov \n",
    "\n",
    "fig 3 & 4 Passmaps\n",
    "\n",
    "Table 3 & 4 Adjacency Matrices\n",
    "\n",
    "# assess network metrics: centrality, pagerank, ...\n",
    "keywords: graph, network, nodes, edges, degree, adjacency matrix, closeness = reciprocal of average distance to other vertices,\n",
    "betweenness = number of shortest paths going through a vertex\n",
    "eigenvector centrality = number of adjacent edges weighted by their 'goodness' (??)\n",
    "Burt's constraint ~ benefit of brokering between other actors\n",
    "transitivity ~ are my friends friends of each other\n",
    "sensitivity of centrality measures ~ remove and add two random nodes\n",
    "finding community structure in very large networks. fast-greedy algorithm\n",
    "spinglass algorithm ~ community mechanics of community detection\n",
    "\n",
    "pagerank\n",
    "clustering\n",
    "maximal cliquee\n",
    "@JPenaTouchette2012"
   ]
  },
  {
   "cell_type": "markdown",
   "metadata": {
    "kernel": "SoS"
   },
   "source": [
    "# Results"
   ]
  },
  {
   "cell_type": "code",
   "execution_count": null,
   "metadata": {
    "kernel": "SoS"
   },
   "outputs": [],
   "source": [
    "possession sequences\n",
    "\n",
    "fig 5,6,7 pitchmap, youtube clip, graph of goal sequence\n",
    "table goal sequence event logs\n",
    "\n",
    "\n"
   ]
  },
  {
   "cell_type": "markdown",
   "metadata": {
    "kernel": "SoS"
   },
   "source": [
    "# Conclusion"
   ]
  },
  {
   "cell_type": "code",
   "execution_count": null,
   "metadata": {
    "kernel": "SoS"
   },
   "outputs": [],
   "source": []
  },
  {
   "cell_type": "markdown",
   "metadata": {
    "kernel": "SoS"
   },
   "source": [
    "# Bibliography"
   ]
  },
  {
   "cell_type": "markdown",
   "metadata": {
    "kernel": "SoS"
   },
   "source": []
  }
 ],
 "metadata": {
  "kernelspec": {
   "display_name": "R",
   "language": "R",
   "name": "ir"
  },
  "language_info": {
   "codemirror_mode": "r",
   "file_extension": ".r",
   "mimetype": "text/x-r-source",
   "name": "R",
   "pygments_lexer": "r",
   "version": "3.6.3"
  },
  "sos": {
   "kernels": [
    [
     "SoS",
     "sos",
     "",
     ""
    ]
   ],
   "version": "0.20.1"
  }
 },
 "nbformat": 4,
 "nbformat_minor": 4
}
